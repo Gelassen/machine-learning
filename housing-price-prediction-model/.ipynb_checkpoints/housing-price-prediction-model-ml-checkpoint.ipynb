{
 "cells": [
  {
   "cell_type": "code",
   "execution_count": 1,
   "metadata": {},
   "outputs": [],
   "source": [
    "from sklearn.model_selection import train_test_split\n",
    "from sklearn.datasets import load_boston\n",
    "\n",
    "import pandas as pd\n",
    "import numpy as np\n",
    "import torch\n",
    "\n",
    "import matplotlib.pyplot as plt"
   ]
  },
  {
   "cell_type": "code",
   "execution_count": 59,
   "metadata": {},
   "outputs": [
    {
     "data": {
      "text/html": [
       "<div>\n",
       "<style scoped>\n",
       "    .dataframe tbody tr th:only-of-type {\n",
       "        vertical-align: middle;\n",
       "    }\n",
       "\n",
       "    .dataframe tbody tr th {\n",
       "        vertical-align: top;\n",
       "    }\n",
       "\n",
       "    .dataframe thead th {\n",
       "        text-align: right;\n",
       "    }\n",
       "</style>\n",
       "<table border=\"1\" class=\"dataframe\">\n",
       "  <thead>\n",
       "    <tr style=\"text-align: right;\">\n",
       "      <th></th>\n",
       "      <th>CRIM</th>\n",
       "      <th>ZN</th>\n",
       "      <th>INDUS</th>\n",
       "      <th>CHAS</th>\n",
       "      <th>NOX</th>\n",
       "      <th>RM</th>\n",
       "      <th>AGE</th>\n",
       "      <th>DIS</th>\n",
       "      <th>RAD</th>\n",
       "      <th>TAX</th>\n",
       "      <th>PTRATIO</th>\n",
       "      <th>B</th>\n",
       "      <th>LSTAT</th>\n",
       "      <th>MEDV</th>\n",
       "      <th>LOGLSTAT</th>\n",
       "    </tr>\n",
       "  </thead>\n",
       "  <tbody>\n",
       "    <tr>\n",
       "      <th>0</th>\n",
       "      <td>0.00632</td>\n",
       "      <td>18.0</td>\n",
       "      <td>2.31</td>\n",
       "      <td>0.0</td>\n",
       "      <td>0.538</td>\n",
       "      <td>6.575</td>\n",
       "      <td>65.2</td>\n",
       "      <td>4.0900</td>\n",
       "      <td>1.0</td>\n",
       "      <td>296.0</td>\n",
       "      <td>15.3</td>\n",
       "      <td>396.90</td>\n",
       "      <td>4.98</td>\n",
       "      <td>24.0</td>\n",
       "      <td>1.605430</td>\n",
       "    </tr>\n",
       "    <tr>\n",
       "      <th>1</th>\n",
       "      <td>0.02731</td>\n",
       "      <td>0.0</td>\n",
       "      <td>7.07</td>\n",
       "      <td>0.0</td>\n",
       "      <td>0.469</td>\n",
       "      <td>6.421</td>\n",
       "      <td>78.9</td>\n",
       "      <td>4.9671</td>\n",
       "      <td>2.0</td>\n",
       "      <td>242.0</td>\n",
       "      <td>17.8</td>\n",
       "      <td>396.90</td>\n",
       "      <td>9.14</td>\n",
       "      <td>21.6</td>\n",
       "      <td>2.212660</td>\n",
       "    </tr>\n",
       "    <tr>\n",
       "      <th>2</th>\n",
       "      <td>0.02729</td>\n",
       "      <td>0.0</td>\n",
       "      <td>7.07</td>\n",
       "      <td>0.0</td>\n",
       "      <td>0.469</td>\n",
       "      <td>7.185</td>\n",
       "      <td>61.1</td>\n",
       "      <td>4.9671</td>\n",
       "      <td>2.0</td>\n",
       "      <td>242.0</td>\n",
       "      <td>17.8</td>\n",
       "      <td>392.83</td>\n",
       "      <td>4.03</td>\n",
       "      <td>34.7</td>\n",
       "      <td>1.393766</td>\n",
       "    </tr>\n",
       "    <tr>\n",
       "      <th>3</th>\n",
       "      <td>0.03237</td>\n",
       "      <td>0.0</td>\n",
       "      <td>2.18</td>\n",
       "      <td>0.0</td>\n",
       "      <td>0.458</td>\n",
       "      <td>6.998</td>\n",
       "      <td>45.8</td>\n",
       "      <td>6.0622</td>\n",
       "      <td>3.0</td>\n",
       "      <td>222.0</td>\n",
       "      <td>18.7</td>\n",
       "      <td>394.63</td>\n",
       "      <td>2.94</td>\n",
       "      <td>33.4</td>\n",
       "      <td>1.078410</td>\n",
       "    </tr>\n",
       "    <tr>\n",
       "      <th>4</th>\n",
       "      <td>0.06905</td>\n",
       "      <td>0.0</td>\n",
       "      <td>2.18</td>\n",
       "      <td>0.0</td>\n",
       "      <td>0.458</td>\n",
       "      <td>7.147</td>\n",
       "      <td>54.2</td>\n",
       "      <td>6.0622</td>\n",
       "      <td>3.0</td>\n",
       "      <td>222.0</td>\n",
       "      <td>18.7</td>\n",
       "      <td>396.90</td>\n",
       "      <td>5.33</td>\n",
       "      <td>36.2</td>\n",
       "      <td>1.673351</td>\n",
       "    </tr>\n",
       "  </tbody>\n",
       "</table>\n",
       "</div>"
      ],
      "text/plain": [
       "      CRIM    ZN  INDUS  CHAS    NOX     RM   AGE     DIS  RAD    TAX  \\\n",
       "0  0.00632  18.0   2.31   0.0  0.538  6.575  65.2  4.0900  1.0  296.0   \n",
       "1  0.02731   0.0   7.07   0.0  0.469  6.421  78.9  4.9671  2.0  242.0   \n",
       "2  0.02729   0.0   7.07   0.0  0.469  7.185  61.1  4.9671  2.0  242.0   \n",
       "3  0.03237   0.0   2.18   0.0  0.458  6.998  45.8  6.0622  3.0  222.0   \n",
       "4  0.06905   0.0   2.18   0.0  0.458  7.147  54.2  6.0622  3.0  222.0   \n",
       "\n",
       "   PTRATIO       B  LSTAT  MEDV  LOGLSTAT  \n",
       "0     15.3  396.90   4.98  24.0  1.605430  \n",
       "1     17.8  396.90   9.14  21.6  2.212660  \n",
       "2     17.8  392.83   4.03  34.7  1.393766  \n",
       "3     18.7  394.63   2.94  33.4  1.078410  \n",
       "4     18.7  396.90   5.33  36.2  1.673351  "
      ]
     },
     "execution_count": 59,
     "metadata": {},
     "output_type": "execute_result"
    }
   ],
   "source": [
    "boston = load_boston()\n",
    "\n",
    "data_frame = pd.DataFrame(boston.data)\n",
    "data_frame.columns = boston.feature_names\n",
    "data_frame['MEDV'] = boston.target\n",
    "data_frame[\"LOGLSTAT\"] = data_frame[\"LSTAT\"].apply(np.log)"
   ]
  },
  {
   "cell_type": "code",
   "execution_count": 65,
   "metadata": {
    "scrolled": true
   },
   "outputs": [
    {
     "data": {
      "text/plain": [
       "(array([ 75., 108.,  99.,  84.,  64.,  30.,  21.,  16.,   4.,   5.]),\n",
       " array([ 1.73 ,  5.354,  8.978, 12.602, 16.226, 19.85 , 23.474, 27.098,\n",
       "        30.722, 34.346, 37.97 ]),\n",
       " <a list of 10 Patch objects>)"
      ]
     },
     "execution_count": 65,
     "metadata": {},
     "output_type": "execute_result"
    },
    {
     "data": {
      "image/png": "[encoded data removed]",
      "text/plain": [
       "<Figure size 432x288 with 1 Axes>"
      ]
     },
     "metadata": {
      "needs_background": "light"
     },
     "output_type": "display_data"
    }
   ],
   "source": [
    "import scipy.stats\n",
    "\n",
    "# TODO normalize the data\n",
    "\n",
    "# check dataset for empty fields \n",
    "data_frame.isnull().sum() \n",
    "\n",
    "\n",
    "data_frame.head()\n",
    "\n",
    "# plt.scatter(data_frame['LSTAT'], data_frame['MEDV'])\n",
    "plt.hist(data_frame['LOGLSTAT'])\n",
    "# plt.plot(data_frame['LSTAT'].apply(np.log), data_frame['MEDV'].apply(np.log))\n",
    "# plt.grid()\n",
    "\n",
    "# mean = 8.0 \n",
    "# std = 2.0\n",
    "\n",
    "# x = np.linspace(0, 16.0, 100)\n",
    "\n",
    "# y = scipy.stats.norm.pdf(x,mean,std)\n",
    "# plt.plot(x, y, color='coral')\n",
    "# plt.grid()\n",
    "\n",
    "# print(y[0:5])\n",
    "# print(len(x[0:5]))\n",
    "# print(len(y[0:5]))"
   ]
  },
  {
   "cell_type": "code",
   "execution_count": 13,
   "metadata": {},
   "outputs": [],
   "source": [
    "# TODO check for the normalization"
   ]
  },
  {
   "cell_type": "code",
   "execution_count": 4,
   "metadata": {},
   "outputs": [],
   "source": [
    "X = boston.data#data_frame[[\"LOGLSTAT\", \"RM\"]].to_numpy() #boston.data\n",
    "y = boston.target\n",
    "\n",
    "X_train, X_test, y_train, y_test = train_test_split(X, y, test_size=0.3, random_state=10)"
   ]
  },
  {
   "cell_type": "code",
   "execution_count": 5,
   "metadata": {},
   "outputs": [
    {
     "name": "stdout",
     "output_type": "stream",
     "text": [
      "<class 'numpy.ndarray'>\n",
      "<class 'numpy.ndarray'>\n",
      "(354, 13)\n",
      "(354,)\n",
      "<class 'torch.Tensor'>\n",
      "<class 'torch.Tensor'>\n",
      "torch.Size([354, 13])\n",
      "torch.Size([354, 1])\n"
     ]
    }
   ],
   "source": [
    "# you have to run it to convert DateFrame to Tensor data\n",
    "print(type(X_train))\n",
    "print(type(y_train))\n",
    "print(X_train.shape)\n",
    "print(y_train.shape)\n",
    "# X_train = torch.from_numpy(X_train.values)\n",
    "X_train = torch.from_numpy(X_train).clone()#torch.tensor(X_train.values, dtype=torch.float)\n",
    "y_train = torch.from_numpy(y_train).clone().reshape(-1,1)#tensor(y_train.values, dtype=torch.float)\n",
    "print(type(X_train))\n",
    "print(type(y_train))\n",
    "print(X_train.shape)\n",
    "print(y_train.shape)"
   ]
  },
  {
   "cell_type": "code",
   "execution_count": 6,
   "metadata": {},
   "outputs": [],
   "source": [
    "# dataset = torch.utils.data.TensorDataset(X_train, y_train)\n",
    "# data_loader = torch.utils.data.DataLoader(dataset, batch_size=32, shuffle=True)"
   ]
  },
  {
   "cell_type": "code",
   "execution_count": 7,
   "metadata": {},
   "outputs": [],
   "source": [
    "input_w_num = X_train.shape[1]\n",
    "output_w_num = input_w_num * 5\n",
    "model = torch.nn.Sequential(\n",
    "    torch.nn.Linear(input_w_num, output_w_num, bias=True), torch.nn.ELU(),\n",
    "    torch.nn.Linear(output_w_num, output_w_num, bias = True), torch.nn.ELU(),\n",
    "    torch.nn.Linear(output_w_num, output_w_num, bias = True), torch.nn.Sigmoid(),\n",
    "    torch.nn.Linear(output_w_num, 1)\n",
    ")"
   ]
  },
  {
   "cell_type": "code",
   "execution_count": 8,
   "metadata": {},
   "outputs": [],
   "source": [
    "loss = torch.nn.MSELoss()\n",
    "optimizer = torch.optim.RMSprop(model.parameters(), lr=1e-4)"
   ]
  },
  {
   "cell_type": "code",
   "execution_count": 9,
   "metadata": {},
   "outputs": [
    {
     "name": "stdout",
     "output_type": "stream",
     "text": [
      "Wall time: 0 ns\n"
     ]
    }
   ],
   "source": [
    "%%time\n",
    "num_epoch = 16000\n",
    "def train_model(model, loss, optimizer, x_train, y_train, num_epoch):\n",
    "    train_accuracy_history = []\n",
    "    train_avg_loss_history = []\n",
    "    model.train()\n",
    "    for n in range(num_epoch):\n",
    "        correct_samples = 0\n",
    "        total_samples = 0\n",
    "        loss_accum = 0\n",
    "#         print(x_train.shape)\n",
    "#         print(y_train.shape)\n",
    "        y_predicts = model(x_train)\n",
    "#         print(\"forward passed\")\n",
    "        y_predicts = y_predicts.reshape(-1,1)\n",
    "        loss_value = loss(y_train, y_predicts)\n",
    "#         print(\"loss passed\")\n",
    "        loss_value.backward()\n",
    "        optimizer.step()\n",
    "        optimizer.zero_grad()\n",
    "        \n",
    "        y_train_np = np.around(y_train, decimals=1).numpy()\n",
    "        predicts_np = np.around(y_predicts.clone().detach(), decimals=1).numpy()\n",
    "        \n",
    "        correct_samples += np.sum(y_train_np == predicts_np)\n",
    "        total_samples += y_train.shape[0]\n",
    "\n",
    "        train_accuracy = float(correct_samples) / total_samples\n",
    "\n",
    "        train_accuracy_history.append(train_accuracy)\n",
    "        train_avg_loss_history.append(loss_value)\n",
    "        \n",
    "        if n > 0 and (n % 100 == 0):\n",
    "            print(f\"Epoch={n}, train_avg_loss={loss_value}, train_accuracy={train_accuracy}\")\n",
    "        # evalute accuracy and loss for specific epoch (via validation dataset)\n",
    "    return train_accuracy_history, train_avg_loss_history\n"
   ]
  },
  {
   "cell_type": "code",
   "execution_count": 10,
   "metadata": {
    "scrolled": true
   },
   "outputs": [
    {
     "name": "stdout",
     "output_type": "stream",
     "text": [
      "Epoch=100, train_avg_loss=442.6569531673772, train_accuracy=0.0\n",
      "Epoch=200, train_avg_loss=427.07950214255305, train_accuracy=0.0\n",
      "Epoch=300, train_avg_loss=413.9536846871769, train_accuracy=0.0\n",
      "Epoch=400, train_avg_loss=401.5625228213743, train_accuracy=0.0\n",
      "Epoch=500, train_avg_loss=389.5677690204219, train_accuracy=0.0\n",
      "Epoch=600, train_avg_loss=377.86039242664685, train_accuracy=0.0\n",
      "Epoch=700, train_avg_loss=366.40196756643, train_accuracy=0.005649717514124294\n",
      "Epoch=800, train_avg_loss=355.1784656899721, train_accuracy=0.0\n",
      "Epoch=900, train_avg_loss=344.18464287836457, train_accuracy=0.002824858757062147\n",
      "Epoch=1000, train_avg_loss=333.4184750517256, train_accuracy=0.0\n",
      "Epoch=1100, train_avg_loss=322.87913054114364, train_accuracy=0.002824858757062147\n",
      "Epoch=1200, train_avg_loss=312.5662224607426, train_accuracy=0.0\n",
      "Epoch=1300, train_avg_loss=302.47953045675723, train_accuracy=0.002824858757062147\n",
      "Epoch=1400, train_avg_loss=292.6188958854469, train_accuracy=0.0\n",
      "Epoch=1500, train_avg_loss=282.9841816465253, train_accuracy=0.0\n",
      "Epoch=1600, train_avg_loss=273.5752562876755, train_accuracy=0.0\n",
      "Epoch=1700, train_avg_loss=264.39198739315066, train_accuracy=0.005649717514124294\n",
      "Epoch=1800, train_avg_loss=255.4342385917885, train_accuracy=0.0\n",
      "Epoch=1900, train_avg_loss=246.7018679831062, train_accuracy=0.0\n",
      "Epoch=2000, train_avg_loss=238.19472713358496, train_accuracy=0.0\n",
      "Epoch=2100, train_avg_loss=229.91266029139064, train_accuracy=0.002824858757062147\n",
      "Epoch=2200, train_avg_loss=221.85550366980905, train_accuracy=0.0\n",
      "Epoch=2300, train_avg_loss=214.02308472656526, train_accuracy=0.0\n",
      "Epoch=2400, train_avg_loss=206.41522140153808, train_accuracy=0.0\n",
      "Epoch=2500, train_avg_loss=198.7033880723809, train_accuracy=0.0\n",
      "Epoch=2600, train_avg_loss=191.26392665179327, train_accuracy=0.002824858757062147\n",
      "Epoch=2700, train_avg_loss=184.13298107907733, train_accuracy=0.005649717514124294\n",
      "Epoch=2800, train_avg_loss=177.25381699571145, train_accuracy=0.002824858757062147\n",
      "Epoch=2900, train_avg_loss=170.35706814702817, train_accuracy=0.002824858757062147\n",
      "Epoch=3000, train_avg_loss=163.6827705752695, train_accuracy=0.00847457627118644\n",
      "Epoch=3100, train_avg_loss=157.3440279092887, train_accuracy=0.002824858757062147\n",
      "Epoch=3200, train_avg_loss=151.269656579904, train_accuracy=0.002824858757062147\n",
      "Epoch=3300, train_avg_loss=145.33002476916744, train_accuracy=0.0\n",
      "Epoch=3400, train_avg_loss=139.64871675894744, train_accuracy=0.002824858757062147\n",
      "Epoch=3500, train_avg_loss=134.24564632393384, train_accuracy=0.005649717514124294\n",
      "Epoch=3600, train_avg_loss=129.0752785673282, train_accuracy=0.002824858757062147\n",
      "Epoch=3700, train_avg_loss=124.15627906808295, train_accuracy=0.002824858757062147\n",
      "Epoch=3800, train_avg_loss=119.10646814940341, train_accuracy=0.002824858757062147\n",
      "Epoch=3900, train_avg_loss=114.35312458396022, train_accuracy=0.0\n",
      "Epoch=4000, train_avg_loss=109.98188558632314, train_accuracy=0.00847457627118644\n",
      "Epoch=4100, train_avg_loss=105.74007210324937, train_accuracy=0.005649717514124294\n",
      "Epoch=4200, train_avg_loss=101.7039264153096, train_accuracy=0.002824858757062147\n",
      "Epoch=4300, train_avg_loss=97.95462135294494, train_accuracy=0.005649717514124294\n",
      "Epoch=4400, train_avg_loss=94.29582456887442, train_accuracy=0.011299435028248588\n",
      "Epoch=4500, train_avg_loss=90.79721827752383, train_accuracy=0.002824858757062147\n",
      "Epoch=4600, train_avg_loss=87.32568928829741, train_accuracy=0.005649717514124294\n",
      "Epoch=4700, train_avg_loss=83.86365636351603, train_accuracy=0.005649717514124294\n",
      "Epoch=4800, train_avg_loss=80.90544225724611, train_accuracy=0.014124293785310734\n",
      "Epoch=4900, train_avg_loss=77.03972317331434, train_accuracy=0.011299435028248588\n",
      "Epoch=5000, train_avg_loss=74.04511225894913, train_accuracy=0.005649717514124294\n",
      "Epoch=5100, train_avg_loss=70.2541853277201, train_accuracy=0.022598870056497175\n",
      "Epoch=5200, train_avg_loss=67.40898309442336, train_accuracy=0.014124293785310734\n",
      "Epoch=5300, train_avg_loss=64.62148379529448, train_accuracy=0.01977401129943503\n",
      "Epoch=5400, train_avg_loss=62.01269315527582, train_accuracy=0.022598870056497175\n",
      "Epoch=5500, train_avg_loss=59.81202468829906, train_accuracy=0.011299435028248588\n",
      "Epoch=5600, train_avg_loss=57.79745468386135, train_accuracy=0.01977401129943503\n",
      "Epoch=5700, train_avg_loss=55.41849683013957, train_accuracy=0.014124293785310734\n",
      "Epoch=5800, train_avg_loss=53.62881360839918, train_accuracy=0.01977401129943503\n",
      "Epoch=5900, train_avg_loss=51.9733322387832, train_accuracy=0.025423728813559324\n",
      "Epoch=6000, train_avg_loss=50.08943580024068, train_accuracy=0.02824858757062147\n",
      "Epoch=6100, train_avg_loss=47.99299931028297, train_accuracy=0.00847457627118644\n",
      "Epoch=6200, train_avg_loss=46.48937611678652, train_accuracy=0.01977401129943503\n",
      "Epoch=6300, train_avg_loss=44.769424384190444, train_accuracy=0.02824858757062147\n",
      "Epoch=6400, train_avg_loss=43.37940899777015, train_accuracy=0.01694915254237288\n",
      "Epoch=6500, train_avg_loss=42.02478109652724, train_accuracy=0.01694915254237288\n",
      "Epoch=6600, train_avg_loss=40.24756803205089, train_accuracy=0.014124293785310734\n",
      "Epoch=6700, train_avg_loss=38.52401539127101, train_accuracy=0.005649717514124294\n",
      "Epoch=6800, train_avg_loss=37.29544338812505, train_accuracy=0.005649717514124294\n",
      "Epoch=6900, train_avg_loss=35.74565019657102, train_accuracy=0.022598870056497175\n",
      "Epoch=7000, train_avg_loss=34.52119189877338, train_accuracy=0.014124293785310734\n",
      "Epoch=7100, train_avg_loss=33.365159120907805, train_accuracy=0.00847457627118644\n",
      "Epoch=7200, train_avg_loss=32.20829918928213, train_accuracy=0.011299435028248588\n",
      "Epoch=7300, train_avg_loss=31.162571399921323, train_accuracy=0.011299435028248588\n",
      "Epoch=7400, train_avg_loss=30.143609441153085, train_accuracy=0.00847457627118644\n",
      "Epoch=7500, train_avg_loss=29.15124417209286, train_accuracy=0.00847457627118644\n",
      "Epoch=7600, train_avg_loss=28.253065582473663, train_accuracy=0.005649717514124294\n",
      "Epoch=7700, train_avg_loss=27.40022964292211, train_accuracy=0.00847457627118644\n",
      "Epoch=7800, train_avg_loss=26.590638043270182, train_accuracy=0.002824858757062147\n",
      "Epoch=7900, train_avg_loss=25.72790603271105, train_accuracy=0.005649717514124294\n",
      "Epoch=8000, train_avg_loss=24.86524498220635, train_accuracy=0.014124293785310734\n",
      "Epoch=8100, train_avg_loss=24.169868080712785, train_accuracy=0.011299435028248588\n",
      "Epoch=8200, train_avg_loss=23.50004655176079, train_accuracy=0.011299435028248588\n",
      "Epoch=8300, train_avg_loss=22.868986415561206, train_accuracy=0.011299435028248588\n",
      "Epoch=8400, train_avg_loss=22.285768713771006, train_accuracy=0.01694915254237288\n",
      "Epoch=8500, train_avg_loss=21.750031826855466, train_accuracy=0.014124293785310734\n",
      "Epoch=8600, train_avg_loss=21.246724717898513, train_accuracy=0.014124293785310734\n",
      "Epoch=8700, train_avg_loss=20.576266000504148, train_accuracy=0.011299435028248588\n",
      "Epoch=8800, train_avg_loss=19.75606774769048, train_accuracy=0.005649717514124294\n",
      "Epoch=8900, train_avg_loss=19.290644824253462, train_accuracy=0.002824858757062147\n",
      "Epoch=9000, train_avg_loss=18.88104293980386, train_accuracy=0.00847457627118644\n",
      "Epoch=9100, train_avg_loss=18.49537535087817, train_accuracy=0.011299435028248588\n",
      "Epoch=9200, train_avg_loss=17.77926604767937, train_accuracy=0.00847457627118644\n",
      "Epoch=9300, train_avg_loss=17.369678974312773, train_accuracy=0.002824858757062147\n",
      "Epoch=9400, train_avg_loss=17.019222474227444, train_accuracy=0.01977401129943503\n",
      "Epoch=9500, train_avg_loss=16.68803423820475, train_accuracy=0.014124293785310734\n",
      "Epoch=9600, train_avg_loss=16.353499526795865, train_accuracy=0.00847457627118644\n",
      "Epoch=9700, train_avg_loss=16.021321694688144, train_accuracy=0.01694915254237288\n",
      "Epoch=9800, train_avg_loss=15.717722454046083, train_accuracy=0.014124293785310734\n",
      "Epoch=9900, train_avg_loss=15.410883519531588, train_accuracy=0.011299435028248588\n",
      "Epoch=10000, train_avg_loss=15.125890516200492, train_accuracy=0.011299435028248588\n",
      "Epoch=10100, train_avg_loss=14.817977501445109, train_accuracy=0.00847457627118644\n",
      "Epoch=10200, train_avg_loss=14.545354760153902, train_accuracy=0.00847457627118644\n",
      "Epoch=10300, train_avg_loss=14.275861276496185, train_accuracy=0.014124293785310734\n",
      "Epoch=10400, train_avg_loss=14.014019086305243, train_accuracy=0.011299435028248588\n",
      "Epoch=10500, train_avg_loss=13.761117998224156, train_accuracy=0.005649717514124294\n"
     ]
    },
    {
     "name": "stdout",
     "output_type": "stream",
     "text": [
      "Epoch=10600, train_avg_loss=13.514108963751315, train_accuracy=0.00847457627118644\n",
      "Epoch=10700, train_avg_loss=13.274856995709229, train_accuracy=0.00847457627118644\n",
      "Epoch=10800, train_avg_loss=13.04716322974365, train_accuracy=0.014124293785310734\n",
      "Epoch=10900, train_avg_loss=12.827701775281074, train_accuracy=0.01977401129943503\n",
      "Epoch=11000, train_avg_loss=12.617486637842386, train_accuracy=0.022598870056497175\n",
      "Epoch=11100, train_avg_loss=12.411683033756095, train_accuracy=0.022598870056497175\n",
      "Epoch=11200, train_avg_loss=12.21016430847568, train_accuracy=0.025423728813559324\n",
      "Epoch=11300, train_avg_loss=12.016732573833968, train_accuracy=0.014124293785310734\n",
      "Epoch=11400, train_avg_loss=11.822048043098283, train_accuracy=0.014124293785310734\n",
      "Epoch=11500, train_avg_loss=11.636460079240177, train_accuracy=0.014124293785310734\n",
      "Epoch=11600, train_avg_loss=11.450024967223325, train_accuracy=0.025423728813559324\n",
      "Epoch=11700, train_avg_loss=11.268422031326793, train_accuracy=0.022598870056497175\n",
      "Epoch=11800, train_avg_loss=11.091491159729284, train_accuracy=0.01694915254237288\n",
      "Epoch=11900, train_avg_loss=10.917014512587585, train_accuracy=0.011299435028248588\n",
      "Epoch=12000, train_avg_loss=10.747677718558696, train_accuracy=0.014124293785310734\n",
      "Epoch=12100, train_avg_loss=10.577047553172248, train_accuracy=0.01694915254237288\n",
      "Epoch=12200, train_avg_loss=10.411545795297366, train_accuracy=0.022598870056497175\n",
      "Epoch=12300, train_avg_loss=10.246361873669455, train_accuracy=0.01977401129943503\n",
      "Epoch=12400, train_avg_loss=10.082662979182112, train_accuracy=0.025423728813559324\n",
      "Epoch=12500, train_avg_loss=9.915987637716084, train_accuracy=0.025423728813559324\n",
      "Epoch=12600, train_avg_loss=9.737526803822192, train_accuracy=0.01694915254237288\n",
      "Epoch=12700, train_avg_loss=9.574334931111, train_accuracy=0.014124293785310734\n",
      "Epoch=12800, train_avg_loss=9.41644188163385, train_accuracy=0.014124293785310734\n",
      "Epoch=12900, train_avg_loss=9.263963779588515, train_accuracy=0.01977401129943503\n",
      "Epoch=13000, train_avg_loss=9.1170978699253, train_accuracy=0.01694915254237288\n",
      "Epoch=13100, train_avg_loss=8.974931494239849, train_accuracy=0.01977401129943503\n",
      "Epoch=13200, train_avg_loss=8.836488343234565, train_accuracy=0.014124293785310734\n",
      "Epoch=13300, train_avg_loss=8.701491608371818, train_accuracy=0.01694915254237288\n",
      "Epoch=13400, train_avg_loss=8.570693396899662, train_accuracy=0.01977401129943503\n",
      "Epoch=13500, train_avg_loss=8.441643605971073, train_accuracy=0.022598870056497175\n",
      "Epoch=13600, train_avg_loss=8.31229399768451, train_accuracy=0.025423728813559324\n",
      "Epoch=13700, train_avg_loss=8.174889528229881, train_accuracy=0.01977401129943503\n",
      "Epoch=13800, train_avg_loss=8.017128546524281, train_accuracy=0.014124293785310734\n",
      "Epoch=13900, train_avg_loss=7.882957422704852, train_accuracy=0.011299435028248588\n",
      "Epoch=14000, train_avg_loss=7.75772647478188, train_accuracy=0.011299435028248588\n",
      "Epoch=14100, train_avg_loss=7.639123531991636, train_accuracy=0.022598870056497175\n",
      "Epoch=14200, train_avg_loss=7.52533626964949, train_accuracy=0.022598870056497175\n",
      "Epoch=14300, train_avg_loss=7.41597065327293, train_accuracy=0.01977401129943503\n",
      "Epoch=14400, train_avg_loss=7.307363340950921, train_accuracy=0.01977401129943503\n",
      "Epoch=14500, train_avg_loss=7.207242654031732, train_accuracy=0.025423728813559324\n",
      "Epoch=14600, train_avg_loss=7.111514328716916, train_accuracy=0.025423728813559324\n",
      "Epoch=14700, train_avg_loss=7.009663769857236, train_accuracy=0.02824858757062147\n",
      "Epoch=14800, train_avg_loss=6.9210546349260165, train_accuracy=0.031073446327683617\n",
      "Epoch=14900, train_avg_loss=6.832030630919191, train_accuracy=0.03389830508474576\n",
      "Epoch=15000, train_avg_loss=6.735130826270171, train_accuracy=0.031073446327683617\n",
      "Epoch=15100, train_avg_loss=6.656693581984607, train_accuracy=0.025423728813559324\n",
      "Epoch=15200, train_avg_loss=6.575989854190103, train_accuracy=0.01977401129943503\n",
      "Epoch=15300, train_avg_loss=6.48050822796118, train_accuracy=0.01977401129943503\n",
      "Epoch=15400, train_avg_loss=6.405756707257395, train_accuracy=0.022598870056497175\n",
      "Epoch=15500, train_avg_loss=6.338100589562157, train_accuracy=0.025423728813559324\n",
      "Epoch=15600, train_avg_loss=6.25265675643275, train_accuracy=0.031073446327683617\n",
      "Epoch=15700, train_avg_loss=6.167723399010854, train_accuracy=0.025423728813559324\n",
      "Epoch=15800, train_avg_loss=6.1075237881221955, train_accuracy=0.01977401129943503\n",
      "Epoch=15900, train_avg_loss=6.0514012502625585, train_accuracy=0.022598870056497175\n",
      "Wall time: 1min 13s\n"
     ]
    }
   ],
   "source": [
    "%%time\n",
    "model = model.double()\n",
    "X_train = X_train.double()\n",
    "y_train = y_train.double()\n",
    "(train_accuracy_history, train_avg_loss_history) = train_model(model, loss, optimizer, X_train, y_train, num_epoch)"
   ]
  },
  {
   "cell_type": "code",
   "execution_count": 11,
   "metadata": {},
   "outputs": [
    {
     "data": {
      "image/png": "[encoded data removed]",
      "text/plain": [
       "<Figure size 432x288 with 1 Axes>"
      ]
     },
     "metadata": {
      "needs_background": "light"
     },
     "output_type": "display_data"
    }
   ],
   "source": [
    "plt.plot(np.array(train_avg_loss_history), '+')\n",
    "plt.xlabel('Epoch')\n",
    "plt.ylabel('Loss value')\n",
    "plt.show()\n",
    "\n",
    "# 31 cycles"
   ]
  },
  {
   "cell_type": "code",
   "execution_count": 12,
   "metadata": {},
   "outputs": [
    {
     "data": {
      "text/plain": [
       "tensor(17.6206, dtype=torch.float64, grad_fn=<MeanBackward0>)"
      ]
     },
     "execution_count": 12,
     "metadata": {},
     "output_type": "execute_result"
    }
   ],
   "source": [
    "if torch.is_tensor(X_test) != True:\n",
    "    X_test = torch.from_numpy(X_test).clone()\n",
    "    y_test = torch.from_numpy(y_test).clone().reshape(-1,1)\n",
    "\n",
    "y_predicts = model(X_test)\n",
    "y_predicts = y_predicts.reshape(-1, 1)\n",
    "loss_value = loss(y_test, y_predicts)\n",
    "\n",
    "# print(loss_value)\n",
    "# print(y_predicts)\n",
    "loss_value"
   ]
  },
  {
   "cell_type": "markdown",
   "metadata": {},
   "source": []
  },
  {
   "cell_type": "code",
   "execution_count": null,
   "metadata": {},
   "outputs": [],
   "source": []
  }
 ],
 "metadata": {
  "kernelspec": {
   "display_name": "Python 3",
   "language": "python",
   "name": "python3"
  },
  "language_info": {
   "codemirror_mode": {
    "name": "ipython",
    "version": 3
   },
   "file_extension": ".py",
   "mimetype": "text/x-python",
   "name": "python",
   "nbconvert_exporter": "python",
   "pygments_lexer": "ipython3",
   "version": "3.8.3"
  }
 },
 "nbformat": 4,
 "nbformat_minor": 4
}
