{
 "cells": [
  {
   "cell_type": "code",
   "execution_count": 1,
   "metadata": {},
   "outputs": [],
   "source": [
    "# origin kernel https://www.kaggle.com/azmatsiddique/cnn-plane-investigation-tracking-detection\n",
    "\n",
    "import numpy as np # linear algebra\n",
    "import pandas as pd # data processing, CSV file I/O (e.g. pd.read_csv)\n",
    "import matplotlib.pyplot as plt\n",
    "from IPython.display import Image\n",
    "import math\n",
    "from sklearn.preprocessing import MinMaxScaler\n",
    "from sklearn.model_selection import train_test_split\n",
    "from sklearn.preprocessing import MinMaxScaler\n",
    "from keras.models import Sequential, Model\n",
    "from keras.layers import Conv2D, MaxPooling2D, Dense, Activation, Dropout, Flatten\n",
    "from keras.layers.normalization import BatchNormalization\n",
    "from keras.optimizers import Adam\n",
    "from keras.callbacks import LearningRateScheduler\n",
    "from keras.regularizers import l2, l1"
   ]
  },
  {
   "cell_type": "code",
   "execution_count": 2,
   "metadata": {},
   "outputs": [
    {
     "data": {
      "text/html": [
       "<div>\n",
       "<style scoped>\n",
       "    .dataframe tbody tr th:only-of-type {\n",
       "        vertical-align: middle;\n",
       "    }\n",
       "\n",
       "    .dataframe tbody tr th {\n",
       "        vertical-align: top;\n",
       "    }\n",
       "\n",
       "    .dataframe thead th {\n",
       "        text-align: right;\n",
       "    }\n",
       "</style>\n",
       "<table border=\"1\" class=\"dataframe\">\n",
       "  <thead>\n",
       "    <tr style=\"text-align: right;\">\n",
       "      <th></th>\n",
       "      <th>data</th>\n",
       "      <th>labels</th>\n",
       "      <th>locations</th>\n",
       "      <th>scene_ids</th>\n",
       "    </tr>\n",
       "  </thead>\n",
       "  <tbody>\n",
       "    <tr>\n",
       "      <th>0</th>\n",
       "      <td>[206, 195, 187, 183, 177, 175, 174, 193, 198, ...</td>\n",
       "      <td>1</td>\n",
       "      <td>[-118.40497658522878, 33.940618514147936]</td>\n",
       "      <td>20170620_175442_0e30</td>\n",
       "    </tr>\n",
       "    <tr>\n",
       "      <th>1</th>\n",
       "      <td>[215, 209, 200, 196, 192, 197, 205, 168, 155, ...</td>\n",
       "      <td>1</td>\n",
       "      <td>[-122.392469714, 37.6176425378]</td>\n",
       "      <td>20161212_180859_0e30</td>\n",
       "    </tr>\n",
       "    <tr>\n",
       "      <th>2</th>\n",
       "      <td>[204, 214, 220, 219, 213, 205, 198, 193, 199, ...</td>\n",
       "      <td>1</td>\n",
       "      <td>[-122.397578597, 37.6209247852]</td>\n",
       "      <td>20170524_181349_0e2f</td>\n",
       "    </tr>\n",
       "    <tr>\n",
       "      <th>3</th>\n",
       "      <td>[179, 174, 179, 178, 173, 170, 168, 168, 168, ...</td>\n",
       "      <td>1</td>\n",
       "      <td>[-122.214849831, 37.7203378331]</td>\n",
       "      <td>20161110_180707_0e1f</td>\n",
       "    </tr>\n",
       "    <tr>\n",
       "      <th>4</th>\n",
       "      <td>[222, 222, 218, 214, 208, 205, 207, 206, 206, ...</td>\n",
       "      <td>1</td>\n",
       "      <td>[-117.862173435, 33.6796854072]</td>\n",
       "      <td>20160813_184932_0c64</td>\n",
       "    </tr>\n",
       "    <tr>\n",
       "      <th>...</th>\n",
       "      <td>...</td>\n",
       "      <td>...</td>\n",
       "      <td>...</td>\n",
       "      <td>...</td>\n",
       "    </tr>\n",
       "    <tr>\n",
       "      <th>31995</th>\n",
       "      <td>[217, 197, 206, 221, 219, 200, 202, 222, 231, ...</td>\n",
       "      <td>0</td>\n",
       "      <td>[-117.51619965614212, 34.08254781774721]</td>\n",
       "      <td>20170726_174731_0f34</td>\n",
       "    </tr>\n",
       "    <tr>\n",
       "      <th>31996</th>\n",
       "      <td>[184, 198, 218, 222, 220, 216, 216, 215, 210, ...</td>\n",
       "      <td>0</td>\n",
       "      <td>[-117.2352626288379, 32.79485122236176]</td>\n",
       "      <td>20160726_173906_0e0e</td>\n",
       "    </tr>\n",
       "    <tr>\n",
       "      <th>31997</th>\n",
       "      <td>[121, 121, 119, 117, 119, 112, 118, 117, 126, ...</td>\n",
       "      <td>0</td>\n",
       "      <td>[-121.4835244137727, 38.53386512064711]</td>\n",
       "      <td>20151030_162249_0c03</td>\n",
       "    </tr>\n",
       "    <tr>\n",
       "      <th>31998</th>\n",
       "      <td>[172, 190, 202, 202, 196, 193, 188, 191, 199, ...</td>\n",
       "      <td>0</td>\n",
       "      <td>[-118.32580026781089, 33.83093529544055]</td>\n",
       "      <td>20160715_174337_0e0e</td>\n",
       "    </tr>\n",
       "    <tr>\n",
       "      <th>31999</th>\n",
       "      <td>[161, 172, 189, 190, 178, 151, 156, 171, 174, ...</td>\n",
       "      <td>0</td>\n",
       "      <td>[-122.3275363089765, 37.57495862200392]</td>\n",
       "      <td>20170712_181006_0f12</td>\n",
       "    </tr>\n",
       "  </tbody>\n",
       "</table>\n",
       "<p>32000 rows × 4 columns</p>\n",
       "</div>"
      ],
      "text/plain": [
       "                                                    data  labels  \\\n",
       "0      [206, 195, 187, 183, 177, 175, 174, 193, 198, ...       1   \n",
       "1      [215, 209, 200, 196, 192, 197, 205, 168, 155, ...       1   \n",
       "2      [204, 214, 220, 219, 213, 205, 198, 193, 199, ...       1   \n",
       "3      [179, 174, 179, 178, 173, 170, 168, 168, 168, ...       1   \n",
       "4      [222, 222, 218, 214, 208, 205, 207, 206, 206, ...       1   \n",
       "...                                                  ...     ...   \n",
       "31995  [217, 197, 206, 221, 219, 200, 202, 222, 231, ...       0   \n",
       "31996  [184, 198, 218, 222, 220, 216, 216, 215, 210, ...       0   \n",
       "31997  [121, 121, 119, 117, 119, 112, 118, 117, 126, ...       0   \n",
       "31998  [172, 190, 202, 202, 196, 193, 188, 191, 199, ...       0   \n",
       "31999  [161, 172, 189, 190, 178, 151, 156, 171, 174, ...       0   \n",
       "\n",
       "                                       locations             scene_ids  \n",
       "0      [-118.40497658522878, 33.940618514147936]  20170620_175442_0e30  \n",
       "1                [-122.392469714, 37.6176425378]  20161212_180859_0e30  \n",
       "2                [-122.397578597, 37.6209247852]  20170524_181349_0e2f  \n",
       "3                [-122.214849831, 37.7203378331]  20161110_180707_0e1f  \n",
       "4                [-117.862173435, 33.6796854072]  20160813_184932_0c64  \n",
       "...                                          ...                   ...  \n",
       "31995   [-117.51619965614212, 34.08254781774721]  20170726_174731_0f34  \n",
       "31996    [-117.2352626288379, 32.79485122236176]  20160726_173906_0e0e  \n",
       "31997    [-121.4835244137727, 38.53386512064711]  20151030_162249_0c03  \n",
       "31998   [-118.32580026781089, 33.83093529544055]  20160715_174337_0e0e  \n",
       "31999    [-122.3275363089765, 37.57495862200392]  20170712_181006_0f12  \n",
       "\n",
       "[32000 rows x 4 columns]"
      ]
     },
     "execution_count": 2,
     "metadata": {},
     "output_type": "execute_result"
    }
   ],
   "source": [
    "data = pd.read_json('input/planesnet.json')\n",
    "data"
   ]
  },
  {
   "cell_type": "code",
   "execution_count": 11,
   "metadata": {},
   "outputs": [
    {
     "name": "stdout",
     "output_type": "stream",
     "text": [
      "(32000, 1200)\n",
      "(32000,)\n",
      "[[206 195 187 ... 224 194 164]\n",
      " [215 209 200 ... 205 207 210]\n",
      " [204 214 220 ... 167 163 157]\n",
      " ...\n",
      " [121 121 119 ... 175 178 156]\n",
      " [172 190 202 ... 210 203 192]\n",
      " [161 172 189 ... 137 123 140]]\n"
     ]
    }
   ],
   "source": [
    "# data.shape\n",
    "\n",
    "#preprocessing\n",
    "\n",
    "x = []\n",
    "for d in data[\"data\"]:\n",
    "    d = np.array(d)\n",
    "    x.append(d.reshape(( 3, 20 * 20)).T.reshape( (20,20,3) ))#3 colour channel- rgb \n",
    "x = np.array(x)\n",
    "\n",
    "y = np.array(data['labels'])#response\n",
    "\n",
    "print(x.shape)\n",
    "print(y.shape)\n",
    "\n",
    "print(x)"
   ]
  },
  {
   "cell_type": "code",
   "execution_count": 4,
   "metadata": {},
   "outputs": [],
   "source": [
    "x_train, x_test, y_train, y_test = train_test_split(x, y, test_size = 0.25)"
   ]
  },
  {
   "cell_type": "code",
   "execution_count": 5,
   "metadata": {},
   "outputs": [
    {
     "name": "stdout",
     "output_type": "stream",
     "text": [
      "(24000, 20, 20, 3)\n"
     ]
    },
    {
     "data": {
      "text/plain": [
       "(24000, 1200)"
      ]
     },
     "execution_count": 5,
     "metadata": {},
     "output_type": "execute_result"
    }
   ],
   "source": [
    "print(x_train.shape)\n",
    "x_train.reshape(x_train.shape[0],-1).shape"
   ]
  },
  {
   "cell_type": "code",
   "execution_count": 6,
   "metadata": {},
   "outputs": [],
   "source": [
    "##normalize\n",
    "\n",
    "scalar = MinMaxScaler()\n",
    "scalar.fit(x_train.reshape(x_train.shape[0],-1))\n",
    "x_train = scalar.transform(x_train.reshape(x_train.shape[0], -1)).reshape(x_train.shape)\n",
    "x_test = scalar.transform(x_test.reshape(x_test.shape[0], -1)).reshape(x_test.shape)"
   ]
  },
  {
   "cell_type": "code",
   "execution_count": 7,
   "metadata": {},
   "outputs": [
    {
     "data": {
      "text/plain": [
       "(24000, 20, 20, 3)"
      ]
     },
     "execution_count": 7,
     "metadata": {},
     "output_type": "execute_result"
    }
   ],
   "source": [
    "x_train.shape"
   ]
  },
  {
   "cell_type": "code",
   "execution_count": 13,
   "metadata": {},
   "outputs": [
    {
     "name": "stdout",
     "output_type": "stream",
     "text": [
      "Model: \"sequential\"\n",
      "_________________________________________________________________\n",
      "Layer (type)                 Output Shape              Param #   \n",
      "=================================================================\n",
      "conv2d (Conv2D)              (None, 18, 18, 16)        448       \n",
      "_________________________________________________________________\n",
      "batch_normalization (BatchNo (None, 18, 18, 16)        64        \n",
      "_________________________________________________________________\n",
      "activation (Activation)      (None, 18, 18, 16)        0         \n",
      "_________________________________________________________________\n",
      "conv2d_1 (Conv2D)            (None, 14, 14, 32)        12832     \n",
      "_________________________________________________________________\n",
      "conv2d_2 (Conv2D)            (None, 12, 12, 32)        9248      \n",
      "_________________________________________________________________\n",
      "batch_normalization_1 (Batch (None, 12, 12, 32)        128       \n",
      "_________________________________________________________________\n",
      "activation_1 (Activation)    (None, 12, 12, 32)        0         \n",
      "_________________________________________________________________\n",
      "conv2d_3 (Conv2D)            (None, 10, 10, 64)        18496     \n",
      "_________________________________________________________________\n",
      "batch_normalization_2 (Batch (None, 10, 10, 64)        256       \n",
      "_________________________________________________________________\n",
      "activation_2 (Activation)    (None, 10, 10, 64)        0         \n",
      "_________________________________________________________________\n",
      "conv2d_4 (Conv2D)            (None, 8, 8, 64)          36928     \n",
      "_________________________________________________________________\n",
      "batch_normalization_3 (Batch (None, 8, 8, 64)          256       \n",
      "_________________________________________________________________\n",
      "activation_3 (Activation)    (None, 8, 8, 64)          0         \n",
      "_________________________________________________________________\n",
      "max_pooling2d (MaxPooling2D) (None, 4, 4, 64)          0         \n",
      "_________________________________________________________________\n",
      "conv2d_5 (Conv2D)            (None, 2, 2, 64)          36928     \n",
      "_________________________________________________________________\n",
      "batch_normalization_4 (Batch (None, 2, 2, 64)          256       \n",
      "_________________________________________________________________\n",
      "activation_4 (Activation)    (None, 2, 2, 64)          0         \n",
      "_________________________________________________________________\n",
      "max_pooling2d_1 (MaxPooling2 (None, 1, 1, 64)          0         \n",
      "_________________________________________________________________\n",
      "flatten (Flatten)            (None, 64)                0         \n",
      "_________________________________________________________________\n",
      "dropout (Dropout)            (None, 64)                0         \n",
      "_________________________________________________________________\n",
      "dense (Dense)                (None, 1)                 65        \n",
      "=================================================================\n",
      "Total params: 115,905\n",
      "Trainable params: 115,425\n",
      "Non-trainable params: 480\n",
      "_________________________________________________________________\n",
      "None\n"
     ]
    }
   ],
   "source": [
    "## CNN model\n",
    "\n",
    "def create_cnn(data_shape):\n",
    "\n",
    "    kernel_size = 3\n",
    "    \n",
    "    model = Sequential()\n",
    "\n",
    "    model.add(Conv2D(16, (kernel_size), strides=(1,1), padding='valid',input_shape=(data_shape[1], data_shape[2], data_shape[3])))\n",
    "    model.add(BatchNormalization())\n",
    "    model.add(Activation('relu'))\n",
    "    model.add(Conv2D(32, (5, 5), activation=\"relu\", input_shape=(32, 32, 3)))\n",
    "\n",
    "    model.add(Conv2D(32, (kernel_size), strides=(1,1), padding='valid'))\n",
    "    model.add(BatchNormalization())\n",
    "    model.add(Activation('relu'))\n",
    "\n",
    "    model.add(Conv2D(64, (kernel_size), strides=(1,1), padding='valid'))\n",
    "    model.add(BatchNormalization())\n",
    "    model.add(Activation('relu'))\n",
    "\n",
    "    model.add(Conv2D(64, (kernel_size), strides=(1,1), padding='valid'))\n",
    "    model.add(BatchNormalization())\n",
    "    model.add(Activation('relu'))\n",
    "    model.add(MaxPooling2D((2,2)))\n",
    "\n",
    "    model.add(Conv2D(64, (kernel_size), strides=(1,1), padding='valid'))\n",
    "    model.add(BatchNormalization())\n",
    "    model.add(Activation('relu'))\n",
    "    model.add(MaxPooling2D((2,2)))\n",
    "    \n",
    "    model.add(Flatten())\n",
    "    model.add(Dropout(0.5))\n",
    "\n",
    "    model.add(Dense(1, activation='sigmoid'))\n",
    "\n",
    "    return model\n",
    "\n",
    "model = create_cnn(x_train.shape)\n",
    "print(model.summary())"
   ]
  },
  {
   "cell_type": "code",
   "execution_count": 14,
   "metadata": {},
   "outputs": [],
   "source": [
    "def step_decay(epoch):\n",
    "    initial_lrate = 0.0001\n",
    "    drop = 0.5\n",
    "    epochs_drop = 10.0\n",
    "    lrate = initial_lrate * math.pow(drop, math.floor((1+epoch)/epochs_drop))\n",
    "\n",
    "    return lrate\n",
    "\n",
    "opt = Adam(lr=0.0001)\n",
    "lrate = LearningRateScheduler(step_decay)\n",
    "model.compile(loss='binary_crossentropy', optimizer=opt, metrics=['accuracy'])"
   ]
  },
  {
   "cell_type": "code",
   "execution_count": 15,
   "metadata": {},
   "outputs": [
    {
     "name": "stdout",
     "output_type": "stream",
     "text": [
      "Epoch 1/50\n",
      "375/375 - 43s - loss: 0.3891 - accuracy: 0.8367 - val_loss: 0.4987 - val_accuracy: 0.7591\n",
      "Epoch 2/50\n",
      "375/375 - 40s - loss: 0.1887 - accuracy: 0.9328 - val_loss: 0.1533 - val_accuracy: 0.9445\n",
      "Epoch 3/50\n",
      "375/375 - 39s - loss: 0.1450 - accuracy: 0.9472 - val_loss: 0.1120 - val_accuracy: 0.9601\n",
      "Epoch 4/50\n",
      "375/375 - 39s - loss: 0.1186 - accuracy: 0.9586 - val_loss: 0.0950 - val_accuracy: 0.9659\n",
      "Epoch 5/50\n",
      "375/375 - 39s - loss: 0.1013 - accuracy: 0.9639 - val_loss: 0.0925 - val_accuracy: 0.9669\n",
      "Epoch 6/50\n",
      "375/375 - 39s - loss: 0.0894 - accuracy: 0.9682 - val_loss: 0.1185 - val_accuracy: 0.9567\n",
      "Epoch 7/50\n",
      "375/375 - 39s - loss: 0.0793 - accuracy: 0.9725 - val_loss: 0.0912 - val_accuracy: 0.9675\n",
      "Epoch 8/50\n",
      "375/375 - 39s - loss: 0.0713 - accuracy: 0.9767 - val_loss: 0.0876 - val_accuracy: 0.9685\n",
      "Epoch 9/50\n",
      "375/375 - 40s - loss: 0.0626 - accuracy: 0.9783 - val_loss: 0.0834 - val_accuracy: 0.9668\n",
      "Epoch 10/50\n",
      "375/375 - 40s - loss: 0.0513 - accuracy: 0.9818 - val_loss: 0.0637 - val_accuracy: 0.9784\n",
      "Epoch 11/50\n",
      "375/375 - 40s - loss: 0.0468 - accuracy: 0.9844 - val_loss: 0.0741 - val_accuracy: 0.9729\n",
      "Epoch 12/50\n",
      "375/375 - 40s - loss: 0.0442 - accuracy: 0.9862 - val_loss: 0.0666 - val_accuracy: 0.9770\n",
      "Epoch 13/50\n",
      "375/375 - 40s - loss: 0.0425 - accuracy: 0.9869 - val_loss: 0.0562 - val_accuracy: 0.9808\n",
      "Epoch 14/50\n",
      "375/375 - 40s - loss: 0.0401 - accuracy: 0.9868 - val_loss: 0.0630 - val_accuracy: 0.9784\n",
      "Epoch 15/50\n",
      "375/375 - 40s - loss: 0.0370 - accuracy: 0.9881 - val_loss: 0.0567 - val_accuracy: 0.9804\n",
      "Epoch 16/50\n",
      "375/375 - 39s - loss: 0.0342 - accuracy: 0.9890 - val_loss: 0.0543 - val_accuracy: 0.9821\n",
      "Epoch 17/50\n",
      "375/375 - 40s - loss: 0.0307 - accuracy: 0.9905 - val_loss: 0.0569 - val_accuracy: 0.9808\n",
      "Epoch 18/50\n",
      "375/375 - 40s - loss: 0.0295 - accuracy: 0.9910 - val_loss: 0.0559 - val_accuracy: 0.9820\n",
      "Epoch 19/50\n",
      "375/375 - 43s - loss: 0.0284 - accuracy: 0.9917 - val_loss: 0.0604 - val_accuracy: 0.9795\n",
      "Epoch 20/50\n",
      "375/375 - 48s - loss: 0.0253 - accuracy: 0.9923 - val_loss: 0.0494 - val_accuracy: 0.9835\n",
      "Epoch 21/50\n",
      "375/375 - 43s - loss: 0.0227 - accuracy: 0.9933 - val_loss: 0.0482 - val_accuracy: 0.9840\n",
      "Epoch 22/50\n",
      "375/375 - 42s - loss: 0.0235 - accuracy: 0.9928 - val_loss: 0.0524 - val_accuracy: 0.9824\n",
      "Epoch 23/50\n",
      "375/375 - 41s - loss: 0.0204 - accuracy: 0.9941 - val_loss: 0.0506 - val_accuracy: 0.9835\n",
      "Epoch 24/50\n",
      "375/375 - 41s - loss: 0.0205 - accuracy: 0.9950 - val_loss: 0.0491 - val_accuracy: 0.9836\n",
      "Epoch 25/50\n",
      "375/375 - 41s - loss: 0.0189 - accuracy: 0.9954 - val_loss: 0.0484 - val_accuracy: 0.9841\n",
      "Epoch 26/50\n",
      "375/375 - 42s - loss: 0.0182 - accuracy: 0.9950 - val_loss: 0.0500 - val_accuracy: 0.9830\n",
      "Epoch 27/50\n",
      "375/375 - 44s - loss: 0.0176 - accuracy: 0.9950 - val_loss: 0.0490 - val_accuracy: 0.9829\n",
      "Epoch 28/50\n",
      "375/375 - 42s - loss: 0.0174 - accuracy: 0.9951 - val_loss: 0.0632 - val_accuracy: 0.9787\n",
      "Epoch 29/50\n",
      "375/375 - 40s - loss: 0.0174 - accuracy: 0.9950 - val_loss: 0.0479 - val_accuracy: 0.9844\n",
      "Epoch 30/50\n",
      "375/375 - 40s - loss: 0.0153 - accuracy: 0.9957 - val_loss: 0.0481 - val_accuracy: 0.9835\n",
      "Epoch 31/50\n",
      "375/375 - 40s - loss: 0.0135 - accuracy: 0.9970 - val_loss: 0.0490 - val_accuracy: 0.9834\n",
      "Epoch 32/50\n",
      "375/375 - 40s - loss: 0.0140 - accuracy: 0.9967 - val_loss: 0.0455 - val_accuracy: 0.9852\n",
      "Epoch 33/50\n",
      "375/375 - 40s - loss: 0.0141 - accuracy: 0.9960 - val_loss: 0.0467 - val_accuracy: 0.9854\n",
      "Epoch 34/50\n",
      "375/375 - 40s - loss: 0.0140 - accuracy: 0.9963 - val_loss: 0.0467 - val_accuracy: 0.9837\n",
      "Epoch 35/50\n",
      "375/375 - 39s - loss: 0.0129 - accuracy: 0.9970 - val_loss: 0.0468 - val_accuracy: 0.9846\n",
      "Epoch 36/50\n",
      "375/375 - 41s - loss: 0.0135 - accuracy: 0.9967 - val_loss: 0.0459 - val_accuracy: 0.9846\n",
      "Epoch 37/50\n",
      "375/375 - 40s - loss: 0.0129 - accuracy: 0.9973 - val_loss: 0.0461 - val_accuracy: 0.9841\n",
      "Epoch 38/50\n",
      "375/375 - 40s - loss: 0.0132 - accuracy: 0.9970 - val_loss: 0.0478 - val_accuracy: 0.9835\n",
      "Epoch 39/50\n",
      "375/375 - 39s - loss: 0.0120 - accuracy: 0.9970 - val_loss: 0.0456 - val_accuracy: 0.9845\n",
      "Epoch 40/50\n",
      "375/375 - 39s - loss: 0.0113 - accuracy: 0.9976 - val_loss: 0.0464 - val_accuracy: 0.9845\n",
      "Epoch 41/50\n",
      "375/375 - 39s - loss: 0.0118 - accuracy: 0.9975 - val_loss: 0.0478 - val_accuracy: 0.9841\n",
      "Epoch 42/50\n",
      "375/375 - 40s - loss: 0.0121 - accuracy: 0.9972 - val_loss: 0.0462 - val_accuracy: 0.9844\n",
      "Epoch 43/50\n",
      "375/375 - 40s - loss: 0.0110 - accuracy: 0.9975 - val_loss: 0.0457 - val_accuracy: 0.9847\n",
      "Epoch 44/50\n",
      "375/375 - 40s - loss: 0.0116 - accuracy: 0.9972 - val_loss: 0.0465 - val_accuracy: 0.9844\n",
      "Epoch 45/50\n",
      "375/375 - 40s - loss: 0.0105 - accuracy: 0.9974 - val_loss: 0.0466 - val_accuracy: 0.9845\n",
      "Epoch 46/50\n",
      "375/375 - 41s - loss: 0.0105 - accuracy: 0.9974 - val_loss: 0.0463 - val_accuracy: 0.9849\n",
      "Epoch 47/50\n",
      "375/375 - 43s - loss: 0.0106 - accuracy: 0.9977 - val_loss: 0.0459 - val_accuracy: 0.9846\n",
      "Epoch 48/50\n",
      "375/375 - 41s - loss: 0.0111 - accuracy: 0.9971 - val_loss: 0.0465 - val_accuracy: 0.9847\n",
      "Epoch 49/50\n",
      "375/375 - 40s - loss: 0.0101 - accuracy: 0.9975 - val_loss: 0.0471 - val_accuracy: 0.9841\n",
      "Epoch 50/50\n",
      "375/375 - 40s - loss: 0.0098 - accuracy: 0.9978 - val_loss: 0.0471 - val_accuracy: 0.9845\n"
     ]
    }
   ],
   "source": [
    "history = model.fit(x_train, y_train, \n",
    "                    batch_size=64, \n",
    "                    epochs=50, \n",
    "                    shuffle=True, \n",
    "                    verbose=2,\n",
    "                    validation_data=(x_test, y_test), \n",
    "                    callbacks=[lrate])"
   ]
  },
  {
   "cell_type": "code",
   "execution_count": 16,
   "metadata": {},
   "outputs": [
    {
     "data": {
      "image/png": "[encoded data removed]",
      "text/plain": [
       "<Figure size 432x288 with 1 Axes>"
      ]
     },
     "metadata": {
      "needs_background": "light"
     },
     "output_type": "display_data"
    }
   ],
   "source": [
    "plt.plot(history.history['accuracy'],label='Train')\n",
    "plt.plot(history.history['val_accuracy'],label='Tesr')\n",
    "plt.xlabel('epoch')\n",
    "plt.ylabel('Accuracy')\n",
    "plt.legend(loc='upper right')\n",
    "plt.show()"
   ]
  },
  {
   "cell_type": "code",
   "execution_count": 17,
   "metadata": {},
   "outputs": [
    {
     "name": "stdout",
     "output_type": "stream",
     "text": [
      "40/40 [==============================] - 1s 37ms/step - loss: 0.0471 - accuracy: 0.9845\n"
     ]
    },
    {
     "data": {
      "text/plain": [
       "[0.04706251993775368, 0.984499990940094]"
      ]
     },
     "execution_count": 17,
     "metadata": {},
     "output_type": "execute_result"
    }
   ],
   "source": [
    "score = model.evaluate(x=x_test,y=y_test,batch_size=200)\n",
    "score"
   ]
  },
  {
   "cell_type": "code",
   "execution_count": null,
   "metadata": {},
   "outputs": [],
   "source": []
  }
 ],
 "metadata": {
  "kernelspec": {
   "display_name": "Python 3",
   "language": "python",
   "name": "python3"
  },
  "language_info": {
   "codemirror_mode": {
    "name": "ipython",
    "version": 3
   },
   "file_extension": ".py",
   "mimetype": "text/x-python",
   "name": "python",
   "nbconvert_exporter": "python",
   "pygments_lexer": "ipython3",
   "version": "3.8.3"
  }
 },
 "nbformat": 4,
 "nbformat_minor": 4
}
