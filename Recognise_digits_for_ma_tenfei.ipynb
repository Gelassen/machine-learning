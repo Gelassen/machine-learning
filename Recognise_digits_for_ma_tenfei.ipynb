{
  "nbformat": 4,
  "nbformat_minor": 0,
  "metadata": {
    "colab": {
      "provenance": []
    },
    "kernelspec": {
      "name": "python3",
      "display_name": "Python 3"
    },
    "language_info": {
      "name": "python"
    }
  },
  "cells": [
    {
      "cell_type": "code",
      "source": [
        "# ref. https://www.geeksforgeeks.org/python-classifying-handwritten-digits-with-tensorflow/\n",
        "# https://codelabs.developers.google.com/codelabs/tfjs-training-classfication/index.html#5\n",
        "# https://www.geeksforgeeks.org/python-tensorflow-tf-keras-layers-conv2d-function/\n",
        "import tensorflow as tf\n",
        "import numpy as np\n",
        "import matplotlib.pyplot as plt\n",
        "\n",
        "\n",
        "from tensorflow import keras\n",
        "from tensorflow.keras import layers\n"
      ],
      "metadata": {
        "id": "z1nNEyp2-OSt"
      },
      "execution_count": null,
      "outputs": []
    },
    {
      "cell_type": "code",
      "source": [
        "print(tf.__version__)"
      ],
      "metadata": {
        "colab": {
          "base_uri": "https://localhost:8080/"
        },
        "id": "GNh4U9AlJBJT",
        "outputId": "d90e41ad-0eaa-4b65-8e58-7f1f161182d5"
      },
      "execution_count": null,
      "outputs": [
        {
          "output_type": "stream",
          "name": "stdout",
          "text": [
            "2.14.0\n"
          ]
        }
      ]
    },
    {
      "cell_type": "code",
      "source": [
        "\n",
        "\n",
        "mnist = tf.keras.datasets.mnist\n",
        "(x_train,y_train) , (x_test,y_test) = mnist.load_data()\n",
        "\n",
        "x_train = tf.keras.utils.normalize(x_train,axis=1)\n",
        "x_test = tf.keras.utils.normalize(x_test,axis=1)\n"
      ],
      "metadata": {
        "id": "b-UupaXb_IWN"
      },
      "execution_count": null,
      "outputs": []
    },
    {
      "cell_type": "code",
      "source": [
        "\n",
        "\n",
        "def draw(n):\n",
        "    plt.imshow(n,cmap=plt.cm.binary)\n",
        "    plt.show()\n",
        "\n",
        "draw(x_train[2])\n"
      ],
      "metadata": {
        "colab": {
          "base_uri": "https://localhost:8080/",
          "height": 430
        },
        "id": "YLcfUPLz_MBM",
        "outputId": "7e6b9751-e454-46d0-eaab-5579916c453e"
      },
      "execution_count": null,
      "outputs": [
        {
          "output_type": "display_data",
          "data": {
            "text/plain": [
              "<Figure size 640x480 with 1 Axes>"
            ],
            "image/png": "[encoded data removed]"
          },
          "metadata": {}
        }
      ]
    },
    {
      "cell_type": "code",
      "source": [
        "# model = tf.keras.models.Sequential()\n",
        "\n",
        "# model.add(tf.keras.layers.Flatten(input_shape=(28, 28)))\n",
        "# #reshape\n",
        "\n",
        "# model.add(tf.keras.layers.Dense(128,activation=tf.nn.relu))\n",
        "# model.add(tf.keras.layers.Dense(128,activation=tf.nn.relu))\n",
        "# model.add(tf.keras.layers.Dense(10,activation=tf.nn.softmax))\n",
        "\n",
        "# model.compile(optimizer='adam',\n",
        "#               loss='sparse_categorical_crossentropy',\n",
        "#               metrics=['accuracy']\n",
        "#               )\n",
        "# model.fit(x_train,y_train,epochs=3)\n",
        "\n",
        "model = tf.keras.models.Sequential()\n",
        "image_width = 28\n",
        "image_height = 28\n",
        "image_channels = 1\n",
        "\n",
        "model.add(layers.Conv2D(\n",
        "    8,\n",
        "    5,\n",
        "    input_shape = [image_width, image_height, image_channels],\n",
        "    strides = 1,\n",
        "    activation = 'relu',\n",
        "    kernel_initializer = 'variance_scaling'\n",
        "));\n",
        "model.add(layers.MaxPooling2D(pool_size = [2, 2], strides = [2, 2]));\n",
        "\n",
        "model.add(layers.Conv2D(\n",
        "    16,\n",
        "    5,\n",
        "    strides = 1,\n",
        "    activation = 'relu',\n",
        "    kernel_initializer = 'variance_scaling'\n",
        "));\n",
        "model.add(layers.MaxPooling2D(pool_size = [2, 2], strides = [2, 2]));\n",
        "\n",
        "model.add(layers.Flatten());\n",
        "\n",
        "num_output_classes = 10;\n",
        "model.add(layers.Dense(\n",
        "    units = num_output_classes,\n",
        "    kernel_initializer = 'variance_scaling',\n",
        "    activation = 'softmax'\n",
        "));\n",
        "\n",
        "optimizer = tf.optimizers.Adam();\n",
        "model.compile(\n",
        "    optimizer = optimizer,\n",
        "    loss = 'sparse_categorical_crossentropy',\n",
        "    metrics = ['accuracy'],\n",
        ");\n",
        "\n"
      ],
      "metadata": {
        "id": "cJU5-ayV_TBI"
      },
      "execution_count": null,
      "outputs": []
    },
    {
      "cell_type": "code",
      "source": [
        "print(\n",
        " \"x_train.shape\", x_train.shape,\n",
        " \"y_train.shape\", y_train.shape,\n",
        " \"x_test.shape\", x_test.shape,\n",
        " \"y_test.shape\", y_test.shape\n",
        ")"
      ],
      "metadata": {
        "colab": {
          "base_uri": "https://localhost:8080/"
        },
        "id": "fCmW_23X7w0p",
        "outputId": "c3bb92d7-3174-4647-8a9e-7c264ab368b4"
      },
      "execution_count": null,
      "outputs": [
        {
          "output_type": "stream",
          "name": "stdout",
          "text": [
            "x_train.shape (60000, 28, 28) y_train.shape (60000,) x_test.shape (10000, 28, 28) y_test.shape (10000,)\n"
          ]
        }
      ]
    },
    {
      "cell_type": "code",
      "source": [
        "# Preprocess the data (these are NumPy arrays)\n",
        "x_train = x_train.astype(\"float32\") / 255\n",
        "x_test = x_test.astype(\"float32\") / 255\n",
        "\n",
        "y_train = y_train.astype(\"float32\")\n",
        "y_test = y_test.astype(\"float32\")\n",
        "\n",
        "# Reserve 10,000 samples for validation\n",
        "x_val = x_train[-10000:]\n",
        "y_val = y_train[-10000:]\n",
        "x_train = x_train[:-10000]\n",
        "y_train = y_train[:-10000]"
      ],
      "metadata": {
        "id": "icvnl8ufAtdh"
      },
      "execution_count": null,
      "outputs": []
    },
    {
      "cell_type": "code",
      "source": [
        "print(\"Fit model on training data\")\n",
        "history = model.fit(\n",
        "    x_train,\n",
        "    y_train,\n",
        "    batch_size=64,\n",
        "    epochs=3,\n",
        "    # We pass some validation for\n",
        "    # monitoring validation loss and metrics\n",
        "    # at the end of each epoch\n",
        "    validation_data=(x_val, y_val),\n",
        ")"
      ],
      "metadata": {
        "colab": {
          "base_uri": "https://localhost:8080/"
        },
        "id": "WqbcHEC67ZZ9",
        "outputId": "33fa859e-a4ba-4e7e-c7b6-7a8ab10ab409"
      },
      "execution_count": null,
      "outputs": [
        {
          "output_type": "stream",
          "name": "stdout",
          "text": [
            "Fit model on training data\n",
            "Epoch 1/3\n",
            "782/782 [==============================] - 23s 29ms/step - loss: 1.4362 - accuracy: 0.5563 - val_loss: 0.6203 - val_accuracy: 0.8302\n",
            "Epoch 2/3\n",
            "782/782 [==============================] - 22s 29ms/step - loss: 0.5548 - accuracy: 0.8355 - val_loss: 0.4390 - val_accuracy: 0.8719\n",
            "Epoch 3/3\n",
            "782/782 [==============================] - 22s 28ms/step - loss: 0.4328 - accuracy: 0.8711 - val_loss: 0.3576 - val_accuracy: 0.8954\n"
          ]
        }
      ]
    },
    {
      "cell_type": "code",
      "source": [
        "model.summary()"
      ],
      "metadata": {
        "colab": {
          "base_uri": "https://localhost:8080/"
        },
        "id": "RmqKhEyMM9ar",
        "outputId": "daedd374-2e92-492d-a6bc-f75937a8612b"
      },
      "execution_count": null,
      "outputs": [
        {
          "output_type": "stream",
          "name": "stdout",
          "text": [
            "Model: \"sequential_2\"\n",
            "_________________________________________________________________\n",
            " Layer (type)                Output Shape              Param #   \n",
            "=================================================================\n",
            " conv2d_4 (Conv2D)           (None, 24, 24, 8)         208       \n",
            "                                                                 \n",
            " max_pooling2d_4 (MaxPoolin  (None, 12, 12, 8)         0         \n",
            " g2D)                                                            \n",
            "                                                                 \n",
            " conv2d_5 (Conv2D)           (None, 8, 8, 16)          3216      \n",
            "                                                                 \n",
            " max_pooling2d_5 (MaxPoolin  (None, 4, 4, 16)          0         \n",
            " g2D)                                                            \n",
            "                                                                 \n",
            " flatten_2 (Flatten)         (None, 256)               0         \n",
            "                                                                 \n",
            " dense_2 (Dense)             (None, 10)                2570      \n",
            "                                                                 \n",
            "=================================================================\n",
            "Total params: 5994 (23.41 KB)\n",
            "Trainable params: 5994 (23.41 KB)\n",
            "Non-trainable params: 0 (0.00 Byte)\n",
            "_________________________________________________________________\n"
          ]
        }
      ]
    },
    {
      "cell_type": "code",
      "source": [
        "\n",
        "\n",
        "# val_loss,val_acc = model.evaluate(x_test,y_test)\n",
        "# print(\"loss-> \",val_loss,\"\\nacc-> \",val_acc)\n"
      ],
      "metadata": {
        "id": "8top77Ex_tji"
      },
      "execution_count": null,
      "outputs": []
    },
    {
      "cell_type": "code",
      "source": [
        "index = 7\n",
        "predictions=model.predict([x_test])\n",
        "print('label -> ',y_test[index])\n",
        "print('prediction -> ',np.argmax(predictions[index]))\n",
        "\n",
        "draw(x_test[index])\n"
      ],
      "metadata": {
        "colab": {
          "base_uri": "https://localhost:8080/",
          "height": 482
        },
        "id": "zOQNroQR_xOF",
        "outputId": "1d2d36ee-6ed9-45cd-ef8b-ffcc4cb7536f"
      },
      "execution_count": null,
      "outputs": [
        {
          "output_type": "stream",
          "name": "stdout",
          "text": [
            "313/313 [==============================] - 2s 7ms/step\n",
            "label ->  9.0\n",
            "prediction ->  9\n"
          ]
        },
        {
          "output_type": "display_data",
          "data": {
            "text/plain": [
              "<Figure size 640x480 with 1 Axes>"
            ],
            "image/png": "[encoded data removed]"
          },
          "metadata": {}
        }
      ]
    }
  ]
}