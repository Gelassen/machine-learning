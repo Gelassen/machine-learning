{
  "nbformat": 4,
  "nbformat_minor": 0,
  "metadata": {
    "colab": {
      "name": "yolov5-blood-cells-detector",
      "provenance": [],
      "collapsed_sections": []
    },
    "kernelspec": {
      "name": "python3",
      "display_name": "Python 3"
    }
  },
  "cells": [
    {
      "cell_type": "code",
      "metadata": {
        "id": "-BZN5k8Ori3j"
      },
      "source": [
        "import torch\r\n",
        "from IPython.display import Image, clear_output  # to display images"
      ],
      "execution_count": null,
      "outputs": []
    },
    {
      "cell_type": "code",
      "metadata": {
        "colab": {
          "base_uri": "https://localhost:8080/"
        },
        "id": "OMgDP1cEsOri",
        "outputId": "764ae74d-9e87-445b-bf83-9f9dca7488de"
      },
      "source": [
        "print('Setup complete. Using torch %s %s' % (torch.__version__, torch.cuda.get_device_properties(0) if torch.cuda.is_available() else 'CPU'))"
      ],
      "execution_count": null,
      "outputs": [
        {
          "output_type": "stream",
          "text": [
            "Setup complete. Using torch 1.7.0+cu101 CPU\n"
          ],
          "name": "stdout"
        }
      ]
    },
    {
      "cell_type": "code",
      "metadata": {
        "id": "f7KJ_w-gsQKv"
      },
      "source": [
        "%%time\r\n",
        "!git clone https://github.com/ultralytics/yolov5"
      ],
      "execution_count": null,
      "outputs": []
    },
    {
      "cell_type": "code",
      "metadata": {
        "colab": {
          "base_uri": "https://localhost:8080/"
        },
        "id": "cEDDBYLIuxny",
        "outputId": "0205b56d-6f88-4914-893e-173dfb666d05"
      },
      "source": [
        "cd yolov5"
      ],
      "execution_count": null,
      "outputs": [
        {
          "output_type": "stream",
          "text": [
            "/content/yolov5\n"
          ],
          "name": "stdout"
        }
      ]
    },
    {
      "cell_type": "code",
      "metadata": {
        "id": "BU-O0F-hsHw7"
      },
      "source": [
        "!curl -L \"https://public.roboflow.com/ds/1Wfr5TZeSx?key=rJPk21Fwxa\" > dataset.zip; \r\n",
        "# torch.hub.download_url_to_file('https://app.roboflow.com/ds/dS9RuGxbRE?key=CtFLLRZdjE', 'dataset.zip')\r\n",
        "# unzip roboflow.zip; rm roboflow.zip\r\n",
        "!unzip -q dataset.zip -d ../ && rm dataset.zip"
      ],
      "execution_count": null,
      "outputs": []
    },
    {
      "cell_type": "code",
      "metadata": {
        "id": "qxO1S_7NHtWh"
      },
      "source": [
        "%pip install -qr requirements.txt "
      ],
      "execution_count": null,
      "outputs": []
    },
    {
      "cell_type": "code",
      "metadata": {
        "id": "Cy2zjCg3u7n9"
      },
      "source": [
        "ls"
      ],
      "execution_count": null,
      "outputs": []
    },
    {
      "cell_type": "code",
      "metadata": {
        "colab": {
          "base_uri": "https://localhost:8080/"
        },
        "id": "0KI6hpehvE96",
        "outputId": "a3114cef-02f5-471b-f9b4-b853c7b9515a"
      },
      "source": [
        "%%time\r\n",
        "!python train.py --batch 16 \\\r\n",
        "                 --img 224 \\\r\n",
        "                 --epochs 16 \\\r\n",
        "                 --data data/blood_cells.yaml \\\r\n",
        "                 --cfg models/yolov5s.yaml \\\r\n",
        "                 --name test_blood_cells"
      ],
      "execution_count": null,
      "outputs": [
        {
          "output_type": "stream",
          "text": [
            "Using torch 1.7.0+cu101 CPU\n",
            "\n",
            "Namespace(adam=False, batch_size=16, bucket='', cache_images=False, cfg='models/yolov5s.yaml', data='data/blood_cells.yaml', device='', epochs=16, evolve=False, exist_ok=False, global_rank=-1, hyp='data/hyp.scratch.yaml', image_weights=False, img_size=[224, 224], local_rank=-1, log_artifacts=False, log_imgs=16, multi_scale=False, name='test_blood_cells', noautoanchor=False, nosave=False, notest=False, project='runs/train', rect=False, resume=False, save_dir='runs/train/test_blood_cells4', single_cls=False, sync_bn=False, total_batch_size=16, weights='yolov5s.pt', workers=8, world_size=1)\n",
            "Start Tensorboard with \"tensorboard --logdir runs/train\", view at http://localhost:6006/\n",
            "2020-12-29 15:04:25.637565: I tensorflow/stream_executor/platform/default/dso_loader.cc:49] Successfully opened dynamic library libcudart.so.10.1\n",
            "Hyperparameters {'lr0': 0.01, 'lrf': 0.2, 'momentum': 0.937, 'weight_decay': 0.0005, 'warmup_epochs': 3.0, 'warmup_momentum': 0.8, 'warmup_bias_lr': 0.1, 'box': 0.05, 'cls': 0.5, 'cls_pw': 1.0, 'obj': 1.0, 'obj_pw': 1.0, 'iou_t': 0.2, 'anchor_t': 4.0, 'fl_gamma': 0.0, 'hsv_h': 0.015, 'hsv_s': 0.7, 'hsv_v': 0.4, 'degrees': 0.0, 'translate': 0.1, 'scale': 0.5, 'shear': 0.0, 'perspective': 0.0, 'flipud': 0.0, 'fliplr': 0.5, 'mosaic': 1.0, 'mixup': 0.0}\n",
            "\n",
            "                 from  n    params  module                                  arguments                     \n",
            "  0                -1  1      3520  models.common.Focus                     [3, 32, 3]                    \n",
            "  1                -1  1     18560  models.common.Conv                      [32, 64, 3, 2]                \n",
            "  2                -1  1     19904  models.common.BottleneckCSP             [64, 64, 1]                   \n",
            "  3                -1  1     73984  models.common.Conv                      [64, 128, 3, 2]               \n",
            "  4                -1  1    161152  models.common.BottleneckCSP             [128, 128, 3]                 \n",
            "  5                -1  1    295424  models.common.Conv                      [128, 256, 3, 2]              \n",
            "  6                -1  1    641792  models.common.BottleneckCSP             [256, 256, 3]                 \n",
            "  7                -1  1   1180672  models.common.Conv                      [256, 512, 3, 2]              \n",
            "  8                -1  1    656896  models.common.SPP                       [512, 512, [5, 9, 13]]        \n",
            "  9                -1  1   1248768  models.common.BottleneckCSP             [512, 512, 1, False]          \n",
            " 10                -1  1    131584  models.common.Conv                      [512, 256, 1, 1]              \n",
            " 11                -1  1         0  torch.nn.modules.upsampling.Upsample    [None, 2, 'nearest']          \n",
            " 12           [-1, 6]  1         0  models.common.Concat                    [1]                           \n",
            " 13                -1  1    378624  models.common.BottleneckCSP             [512, 256, 1, False]          \n",
            " 14                -1  1     33024  models.common.Conv                      [256, 128, 1, 1]              \n",
            " 15                -1  1         0  torch.nn.modules.upsampling.Upsample    [None, 2, 'nearest']          \n",
            " 16           [-1, 4]  1         0  models.common.Concat                    [1]                           \n",
            " 17                -1  1     95104  models.common.BottleneckCSP             [256, 128, 1, False]          \n",
            " 18                -1  1    147712  models.common.Conv                      [128, 128, 3, 2]              \n",
            " 19          [-1, 14]  1         0  models.common.Concat                    [1]                           \n",
            " 20                -1  1    313088  models.common.BottleneckCSP             [256, 256, 1, False]          \n",
            " 21                -1  1    590336  models.common.Conv                      [256, 256, 3, 2]              \n",
            " 22          [-1, 10]  1         0  models.common.Concat                    [1]                           \n",
            " 23                -1  1   1248768  models.common.BottleneckCSP             [512, 512, 1, False]          \n",
            " 24      [17, 20, 23]  1     21576  models.yolo.Detect                      [3, [[10, 13, 16, 30, 33, 23], [30, 61, 62, 45, 59, 119], [116, 90, 156, 198, 373, 326]], [128, 256, 512]]\n",
            "Model Summary: 283 layers, 7260488 parameters, 7260488 gradients, 16.8 GFLOPS\n",
            "\n",
            "Transferred 362/370 items from yolov5s.pt\n",
            "Optimizer groups: 62 .bias, 70 conv.weight, 59 other\n",
            "Scanning '../data/train/labels.cache' for images and labels... 510 found, 0 missing, 0 empty, 0 corrupted: 100% 510/510 [00:00<00:00, 4028427.57it/s]\n",
            "Scanning '../data/valid/labels.cache' for images and labels... 73 found, 0 missing, 0 empty, 0 corrupted: 100% 73/73 [00:00<00:00, 322299.15it/s]\n",
            "Plotting labels... \n",
            "NumExpr defaulting to 2 threads.\n",
            "\n",
            "Analyzing anchors... anchors/target = 6.45, Best Possible Recall (BPR) = 0.9994\n",
            "Image sizes 224 train, 224 test\n",
            "Using 2 dataloader workers\n",
            "Logging results to runs/train/test_blood_cells4\n",
            "Starting training for 16 epochs...\n",
            "\n",
            "     Epoch   gpu_mem       box       obj       cls     total   targets  img_size\n",
            "      0/15        0G      0.12    0.5918   0.03979    0.7516       267       224: 100% 32/32 [01:56<00:00,  3.63s/it]\n",
            "               Class      Images     Targets           P           R      mAP@.5  mAP@.5:.95: 100% 5/5 [00:16<00:00,  3.28s/it]\n",
            "                 all          73         967      0.0352      0.0247      0.0132     0.00211\n",
            "\n",
            "     Epoch   gpu_mem       box       obj       cls     total   targets  img_size\n",
            "      1/15        0G    0.1138    0.5774   0.03387     0.725       241       224: 100% 32/32 [01:53<00:00,  3.54s/it]\n",
            "               Class      Images     Targets           P           R      mAP@.5  mAP@.5:.95: 100% 5/5 [00:12<00:00,  2.57s/it]\n",
            "                 all          73         967      0.0285       0.211      0.0239     0.00405\n",
            "\n",
            "     Epoch   gpu_mem       box       obj       cls     total   targets  img_size\n",
            "      2/15        0G    0.1048    0.6043   0.02701    0.7362       306       224: 100% 32/32 [01:54<00:00,  3.58s/it]\n",
            "               Class      Images     Targets           P           R      mAP@.5  mAP@.5:.95: 100% 5/5 [00:08<00:00,  1.77s/it]\n",
            "                 all          73         967      0.0275       0.509      0.0834      0.0191\n",
            "\n",
            "     Epoch   gpu_mem       box       obj       cls     total   targets  img_size\n",
            "      3/15        0G   0.09437    0.6207   0.02179    0.7368       247       224: 100% 32/32 [01:52<00:00,  3.52s/it]\n",
            "               Class      Images     Targets           P           R      mAP@.5  mAP@.5:.95: 100% 5/5 [00:07<00:00,  1.54s/it]\n",
            "                 all          73         967      0.0292       0.655       0.235      0.0581\n",
            "\n",
            "     Epoch   gpu_mem       box       obj       cls     total   targets  img_size\n",
            "      4/15        0G   0.08433    0.6689   0.01811    0.7713       262       224: 100% 32/32 [01:52<00:00,  3.52s/it]\n",
            "               Class      Images     Targets           P           R      mAP@.5  mAP@.5:.95: 100% 5/5 [00:07<00:00,  1.43s/it]\n",
            "                 all          73         967      0.0332       0.682       0.345       0.103\n",
            "\n",
            "     Epoch   gpu_mem       box       obj       cls     total   targets  img_size\n",
            "      5/15        0G   0.07475    0.6648   0.01545     0.755       333       224: 100% 32/32 [01:52<00:00,  3.50s/it]\n",
            "               Class      Images     Targets           P           R      mAP@.5  mAP@.5:.95: 100% 5/5 [00:06<00:00,  1.36s/it]\n",
            "                 all          73         967      0.0404       0.725       0.448       0.163\n",
            "\n",
            "     Epoch   gpu_mem       box       obj       cls     total   targets  img_size\n",
            "      6/15        0G   0.06958    0.7083   0.01365    0.7916       328       224: 100% 32/32 [01:51<00:00,  3.48s/it]\n",
            "               Class      Images     Targets           P           R      mAP@.5  mAP@.5:.95: 100% 5/5 [00:06<00:00,  1.36s/it]\n",
            "                 all          73         967      0.0632       0.699        0.45        0.18\n",
            "\n",
            "     Epoch   gpu_mem       box       obj       cls     total   targets  img_size\n",
            "      7/15        0G   0.06378    0.6741   0.01198    0.7499       239       224: 100% 32/32 [01:53<00:00,  3.55s/it]\n",
            "               Class      Images     Targets           P           R      mAP@.5  mAP@.5:.95: 100% 5/5 [00:07<00:00,  1.44s/it]\n",
            "                 all          73         967      0.0987       0.811       0.502       0.182\n",
            "\n",
            "     Epoch   gpu_mem       box       obj       cls     total   targets  img_size\n",
            "      8/15        0G   0.05962    0.6747   0.01066    0.7449       264       224: 100% 32/32 [01:52<00:00,  3.51s/it]\n",
            "               Class      Images     Targets           P           R      mAP@.5  mAP@.5:.95: 100% 5/5 [00:06<00:00,  1.30s/it]\n",
            "                 all          73         967        0.17       0.825       0.621       0.268\n",
            "\n",
            "     Epoch   gpu_mem       box       obj       cls     total   targets  img_size\n",
            "      9/15        0G   0.05728    0.6932  0.009656    0.7601       294       224: 100% 32/32 [01:51<00:00,  3.49s/it]\n",
            "               Class      Images     Targets           P           R      mAP@.5  mAP@.5:.95: 100% 5/5 [00:06<00:00,  1.31s/it]\n",
            "                 all          73         967       0.187       0.887       0.676       0.311\n",
            "\n",
            "     Epoch   gpu_mem       box       obj       cls     total   targets  img_size\n",
            "     10/15        0G   0.05406     0.684  0.008618    0.7466       253       224: 100% 32/32 [01:51<00:00,  3.49s/it]\n",
            "               Class      Images     Targets           P           R      mAP@.5  mAP@.5:.95: 100% 5/5 [00:06<00:00,  1.30s/it]\n",
            "                 all          73         967       0.232       0.865       0.699       0.332\n",
            "\n",
            "     Epoch   gpu_mem       box       obj       cls     total   targets  img_size\n",
            "     11/15        0G   0.05305    0.6781  0.008055    0.7392       290       224: 100% 32/32 [01:51<00:00,  3.48s/it]\n",
            "               Class      Images     Targets           P           R      mAP@.5  mAP@.5:.95: 100% 5/5 [00:06<00:00,  1.28s/it]\n",
            "                 all          73         967       0.193       0.945       0.676       0.288\n",
            "\n",
            "     Epoch   gpu_mem       box       obj       cls     total   targets  img_size\n",
            "     12/15        0G   0.05192    0.6899  0.007367    0.7492       262       224: 100% 32/32 [01:51<00:00,  3.49s/it]\n",
            "               Class      Images     Targets           P           R      mAP@.5  mAP@.5:.95: 100% 5/5 [00:07<00:00,  1.55s/it]\n",
            "                 all          73         967       0.236       0.921       0.751       0.356\n",
            "\n",
            "     Epoch   gpu_mem       box       obj       cls     total   targets  img_size\n",
            "     13/15        0G   0.05082    0.6907  0.006893    0.7484       235       224: 100% 32/32 [01:51<00:00,  3.49s/it]\n",
            "               Class      Images     Targets           P           R      mAP@.5  mAP@.5:.95: 100% 5/5 [00:06<00:00,  1.26s/it]\n",
            "                 all          73         967       0.257       0.917       0.753       0.409\n",
            "\n",
            "     Epoch   gpu_mem       box       obj       cls     total   targets  img_size\n",
            "     14/15        0G   0.04921    0.6778  0.006461    0.7335       310       224: 100% 32/32 [01:51<00:00,  3.49s/it]\n",
            "               Class      Images     Targets           P           R      mAP@.5  mAP@.5:.95: 100% 5/5 [00:06<00:00,  1.28s/it]\n",
            "                 all          73         967       0.271       0.947       0.791        0.43\n",
            "\n",
            "     Epoch   gpu_mem       box       obj       cls     total   targets  img_size\n",
            "     15/15        0G   0.04949    0.6817  0.006151    0.7374       328       224: 100% 32/32 [01:51<00:00,  3.49s/it]\n",
            "               Class      Images     Targets           P           R      mAP@.5  mAP@.5:.95: 100% 5/5 [00:07<00:00,  1.49s/it]\n",
            "                 all          73         967       0.272       0.957       0.776       0.398\n",
            "Optimizer stripped from runs/train/test_blood_cells4/weights/last.pt, 14.7MB\n",
            "Optimizer stripped from runs/train/test_blood_cells4/weights/best.pt, 14.7MB\n",
            "16 epochs completed in 0.538 hours.\n",
            "\n",
            "CPU times: user 6.02 s, sys: 878 ms, total: 6.9 s\n",
            "Wall time: 32min 26s\n"
          ],
          "name": "stdout"
        }
      ]
    },
    {
      "cell_type": "code",
      "metadata": {
        "colab": {
          "base_uri": "https://localhost:8080/"
        },
        "id": "rZLsVPpn7I9C",
        "outputId": "86f6af6c-9524-4ae1-a123-6325294d8544"
      },
      "source": [
        "!python detect.py --img 224 --source ../data/test/images/"
      ],
      "execution_count": null,
      "outputs": [
        {
          "output_type": "stream",
          "text": [
            "Namespace(agnostic_nms=False, augment=False, classes=None, conf_thres=0.25, device='', exist_ok=False, img_size=224, iou_thres=0.45, name='exp', project='runs/detect', save_conf=False, save_txt=False, source='../data/test/images/', update=False, view_img=False, weights='yolov5s.pt')\n",
            "Using torch 1.7.0+cu101 CPU\n",
            "\n",
            "Fusing layers... \n",
            "Model Summary: 232 layers, 7459581 parameters, 0 gradients, 17.5 GFLOPS\n",
            "image 1/36 /content/data/test/images/BloodImage_00038_jpg.rf.63da20f3f5538d0d2be8c4633c7034a1.jpg: 224x224 Done. (0.097s)\n",
            "image 2/36 /content/data/test/images/BloodImage_00044_jpg.rf.b0e2369642c5a7fa434ed8defa79e2ba.jpg: 224x224 1 cakes, Done. (0.080s)\n",
            "image 3/36 /content/data/test/images/BloodImage_00062_jpg.rf.e965ee152eea462d82706a2709abfe00.jpg: 224x224 Done. (0.082s)\n",
            "image 4/36 /content/data/test/images/BloodImage_00090_jpg.rf.4fd1da847d2857b6092003c41255ea4c.jpg: 224x224 Done. (0.076s)\n",
            "image 5/36 /content/data/test/images/BloodImage_00099_jpg.rf.5b178d758af2a97d3df8e5f87b1f344a.jpg: 224x224 Done. (0.081s)\n",
            "image 6/36 /content/data/test/images/BloodImage_00112_jpg.rf.f8d86689750221da637a054843c72822.jpg: 224x224 1 cakes, Done. (0.075s)\n",
            "image 7/36 /content/data/test/images/BloodImage_00113_jpg.rf.a6d6a75c0ebfc703ecff95e2938be34d.jpg: 224x224 1 cakes, Done. (0.089s)\n",
            "image 8/36 /content/data/test/images/BloodImage_00120_jpg.rf.6742a4da047e1226a181d2de2978ce6d.jpg: 224x224 Done. (0.075s)\n",
            "image 9/36 /content/data/test/images/BloodImage_00133_jpg.rf.06c3705fcfe2fcaee19e1a076e511508.jpg: 224x224 1 cakes, Done. (0.080s)\n",
            "image 10/36 /content/data/test/images/BloodImage_00134_jpg.rf.ee0308b1f3e1ffbb048cb3b1f80e8e36.jpg: 224x224 Done. (0.075s)\n",
            "image 11/36 /content/data/test/images/BloodImage_00154_jpg.rf.7c682b32a64ca0520b6fc725f0d667c7.jpg: 224x224 Done. (0.077s)\n",
            "image 12/36 /content/data/test/images/BloodImage_00160_jpg.rf.500f16e32681898ca1ce052ea0402c08.jpg: 224x224 1 cakes, Done. (0.074s)\n",
            "image 13/36 /content/data/test/images/BloodImage_00190_jpg.rf.03484116dcad7715c77d30654056fc54.jpg: 224x224 1 cakes, Done. (0.079s)\n",
            "image 14/36 /content/data/test/images/BloodImage_00191_jpg.rf.d4b5ad6525c6c0bc4eaea1f24901f396.jpg: 224x224 1 cakes, Done. (0.077s)\n",
            "image 15/36 /content/data/test/images/BloodImage_00204_jpg.rf.6c3c9e37ab9122b026444cc4e685aef1.jpg: 224x224 1 cakes, Done. (0.080s)\n",
            "image 16/36 /content/data/test/images/BloodImage_00227_jpg.rf.1572183909350ffe748751e967b7c8e5.jpg: 224x224 1 cakes, Done. (0.078s)\n",
            "image 17/36 /content/data/test/images/BloodImage_00235_jpg.rf.b01cbde1f504d448759188feadad4838.jpg: 224x224 Done. (0.083s)\n",
            "image 18/36 /content/data/test/images/BloodImage_00241_jpg.rf.d0edd8c528bec298a9552ed8ad5714c7.jpg: 224x224 1 cakes, Done. (0.075s)\n",
            "image 19/36 /content/data/test/images/BloodImage_00254_jpg.rf.6e046ca48ec2e57c2e178aa3f08ec8ee.jpg: 224x224 1 cakes, Done. (0.079s)\n",
            "image 20/36 /content/data/test/images/BloodImage_00265_jpg.rf.4b7cc25caca963b5e0325c6998917cd1.jpg: 224x224 1 cakes, Done. (0.077s)\n",
            "image 21/36 /content/data/test/images/BloodImage_00266_jpg.rf.6d62684a33e2f5bc048803aba3177f58.jpg: 224x224 1 cakes, Done. (0.076s)\n",
            "image 22/36 /content/data/test/images/BloodImage_00275_jpg.rf.9108b9a016fadd9c367b05dfb0c40c2c.jpg: 224x224 1 cakes, Done. (0.074s)\n",
            "image 23/36 /content/data/test/images/BloodImage_00278_jpg.rf.9ce9e9760ff20b56b115c86879e02a67.jpg: 224x224 1 cakes, Done. (0.075s)\n",
            "image 24/36 /content/data/test/images/BloodImage_00284_jpg.rf.d33fcb37af7c55a50f275711763ddf7a.jpg: 224x224 1 cakes, Done. (0.076s)\n",
            "image 25/36 /content/data/test/images/BloodImage_00289_jpg.rf.58c541d9273174738d3d74e599428169.jpg: 224x224 Done. (0.076s)\n",
            "image 26/36 /content/data/test/images/BloodImage_00301_jpg.rf.9c427e66bcc1b088df9a5e71c0abefba.jpg: 224x224 1 cakes, Done. (0.075s)\n",
            "image 27/36 /content/data/test/images/BloodImage_00302_jpg.rf.ae0f61c17483b2e0e7f9b1396fc5108c.jpg: 224x224 1 cakes, Done. (0.078s)\n",
            "image 28/36 /content/data/test/images/BloodImage_00325_jpg.rf.55e62842be833601c86a1bd449ee8fe6.jpg: 224x224 1 cakes, Done. (0.079s)\n",
            "image 29/36 /content/data/test/images/BloodImage_00334_jpg.rf.3b8a84d57940aeb45e5c2046c8411996.jpg: 224x224 1 cakes, Done. (0.083s)\n",
            "image 30/36 /content/data/test/images/BloodImage_00336_jpg.rf.5ae87ede3994ca14504136035e256e38.jpg: 224x224 1 cakes, Done. (0.075s)\n",
            "image 31/36 /content/data/test/images/BloodImage_00337_jpg.rf.7959cb18929c970939cda4a9544547c8.jpg: 224x224 1 cakes, Done. (0.079s)\n",
            "image 32/36 /content/data/test/images/BloodImage_00350_jpg.rf.1a19e9f9f197fbeab278718f7c6cea9b.jpg: 224x224 1 cakes, Done. (0.083s)\n",
            "image 33/36 /content/data/test/images/BloodImage_00359_jpg.rf.e4b6af6691f2d8cc8345f42bcc1678fa.jpg: 224x224 1 cakes, Done. (0.081s)\n",
            "image 34/36 /content/data/test/images/BloodImage_00369_jpg.rf.99ae139e5530a25980b7acdd56a4317c.jpg: 224x224 Done. (0.077s)\n",
            "image 35/36 /content/data/test/images/BloodImage_00385_jpg.rf.cf0e48c08597f372423a60918074f574.jpg: 224x224 Done. (0.074s)\n",
            "image 36/36 /content/data/test/images/BloodImage_00386_jpg.rf.1de8e2e0e94f942d7a1523852d7fb146.jpg: 224x224 1 cakes, Done. (0.076s)\n",
            "Results saved to runs/detect/exp3\n",
            "Done. (3.096s)\n"
          ],
          "name": "stdout"
        }
      ]
    },
    {
      "cell_type": "code",
      "metadata": {
        "colab": {
          "base_uri": "https://localhost:8080/"
        },
        "id": "V0507UkUHoU0",
        "outputId": "11d2b727-ca46-42fd-9da0-419dbd65b44a"
      },
      "source": [
        "!python test.py  --data data/blood_cells.yaml --task test"
      ],
      "execution_count": null,
      "outputs": [
        {
          "output_type": "stream",
          "text": [
            "Namespace(augment=False, batch_size=32, conf_thres=0.001, data='data/blood_cells.yaml', device='', exist_ok=False, img_size=640, iou_thres=0.6, name='exp', project='runs/test', save_conf=False, save_hybrid=False, save_json=False, save_txt=False, single_cls=False, task='test', verbose=False, weights='yolov5s.pt')\n",
            "Using torch 1.7.0+cu101 CPU\n",
            "\n",
            "Fusing layers... \n",
            "Model Summary: 232 layers, 7459581 parameters, 0 gradients, 17.5 GFLOPS\n",
            "Scanning '../data/test/labels.cache' for images and labels... 36 found, 0 missing, 0 empty, 0 corrupted: 100% 36/36 [00:00<00:00, 224028.11it/s]\n",
            "               Class      Images     Targets           P           R      mAP@.5  mAP@.5:.95:   0% 0/2 [00:00<?, ?it/s]Traceback (most recent call last):\n",
            "  File \"test.py\", line 319, in <module>\n",
            "    save_conf=opt.save_conf,\n",
            "  File \"test.py\", line 181, in test\n",
            "    confusion_matrix.process_batch(pred, torch.cat((labels[:, 0:1], tbox), 1))\n",
            "  File \"/content/yolov5/utils/metrics.py\", line 146, in process_batch\n",
            "    self.matrix[gc, detection_classes[m1[j]]] += 1  # correct\n",
            "IndexError: index 47 is out of bounds for axis 1 with size 4\n",
            "               Class      Images     Targets           P           R      mAP@.5  mAP@.5:.95:   0% 0/2 [00:18<?, ?it/s]\n"
          ],
          "name": "stdout"
        }
      ]
    },
    {
      "cell_type": "code",
      "metadata": {
        "id": "Zq0ebZz1_wI4"
      },
      "source": [
        ""
      ],
      "execution_count": null,
      "outputs": []
    },
    {
      "cell_type": "code",
      "metadata": {
        "id": "epD9_c_E3BIq"
      },
      "source": [
        ""
      ],
      "execution_count": null,
      "outputs": []
    }
  ]
}